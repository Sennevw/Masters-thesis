{
 "cells": [
  {
   "cell_type": "code",
   "execution_count": 2,
   "metadata": {},
   "outputs": [],
   "source": [
    "import numpy as np\n",
    "import matplotlib.pyplot as plt\n",
    "import powerlaw\n"
   ]
  },
  {
   "cell_type": "markdown",
   "metadata": {},
   "source": [
    "g++-12 -std=c++17 -Wall -O3 -o help Newtonian.cpp\n"
   ]
  },
  {
   "cell_type": "code",
   "execution_count": 3,
   "metadata": {},
   "outputs": [],
   "source": [
    "def plot_loglog(ax, tot_clust):\n",
    "    x = np.linspace(1, len(tot_clust), (len(tot_clust)))\n",
    "    ax.set_xscale('log')\n",
    "    ax.set_yscale('log')\n",
    "    ax.plot(x, tot_clust)\n",
    "    ax.plot(x, tot_clust, '+')\n",
    "\n",
    "def plot_samplex(ax, clusters):\n",
    "    list = np.zeros(len(clusters))\n",
    "    for i in range(len(clusters)):\n",
    "        list[i] = np.sum(clusters[i:])/np.sum(clusters)\n",
    "    ax.set_xscale('log')\n",
    "    ax.set_yscale('log')\n",
    "    x = np.linspace(1, len(list), len(list))\n",
    "    ax.plot(x, list)\n",
    "    return x, list\n",
    "\n",
    "def plot_ccdf1(ax, tot_clust):\n",
    "    N = len(tot_clust)\n",
    "    x = np.sort(tot_clust) \n",
    "    y = np.arange(N) / float(N)\n",
    "    ax.set_xscale('log')\n",
    "    ax.set_yscale('log')\n",
    "    ax.plot(x, 1-y)\n",
    "\n",
    "def plot_ccdf2(ax, tot_clust, dens=False):\n",
    "    count, bins_count = np.histogram(tot_clust, bins=np.logspace(0, np.log10(len(tot_clust)), 5000), density=dens)\n",
    "    pdf = count / sum(count) \n",
    "    cdf = np.cumsum(pdf)\n",
    "    ccdf = 1 - cdf\n",
    "    ax.set_xscale('log')\n",
    "    ax.set_yscale('log')\n",
    "    ax.plot(bins_count[1:], ccdf)\n",
    "    return bins_count[1:], ccdf\n",
    "\n",
    "def pl(x, a, b):\n",
    "    return a * np.power(x, -b)\n",
    "\n",
    "def fit_pl(x, y):\n",
    "    return scipy.optimize.curve_fit(power_law, x, y)"
   ]
  },
  {
   "cell_type": "code",
   "execution_count": 4,
   "metadata": {},
   "outputs": [
    {
     "name": "stderr",
     "output_type": "stream",
     "text": [
      "Values less than or equal to 0 in data. Throwing out 0 or negative values\n",
      "Calculating best minimal value for power law fit\n",
      "/home/sennevw/anaconda3/lib/python3.9/site-packages/powerlaw.py:699: RuntimeWarning: invalid value encountered in true_divide\n",
      "  (CDF_diff**2) /\n",
      "/home/sennevw/anaconda3/lib/python3.9/site-packages/powerlaw.py:699: RuntimeWarning: divide by zero encountered in true_divide\n",
      "  (CDF_diff**2) /\n"
     ]
    },
    {
     "name": "stdout",
     "output_type": "stream",
     "text": [
      "4.076766542797943\n",
      "-10.990642207047953 0.005696343753566353\n",
      "23145.0\n"
     ]
    },
    {
     "name": "stderr",
     "output_type": "stream",
     "text": [
      "Values less than or equal to 0 in data. Throwing out 0 or negative values\n",
      "Calculating best minimal value for power law fit\n"
     ]
    },
    {
     "name": "stdout",
     "output_type": "stream",
     "text": [
      "3.2806544211944306\n",
      "-0.061257769204646095 0.813825109543192\n",
      "1692.0\n"
     ]
    },
    {
     "data": {
      "image/png": "[encoded data removed]",
      "text/plain": [
       "<Figure size 432x288 with 1 Axes>"
      ]
     },
     "metadata": {
      "needs_background": "light"
     },
     "output_type": "display_data"
    }
   ],
   "source": [
    "size, amount = np.loadtxt(\"r2.txt\", skiprows=1, unpack=True)\n",
    "size = size[1:]\n",
    "amount = amount[1:]\n",
    "plt.loglog(size, amount, '+')\n",
    "result = powerlaw.Fit(amount, discrete=True)\n",
    "print(result.alpha)\n",
    "R, p = result.distribution_compare('power_law', 'lognormal')\n",
    "print(R, p)\n",
    "print(result.xmin)\n",
    "\n",
    "size, amount = np.loadtxt(\"r4.txt\", skiprows=1, unpack=True)\n",
    "size = size[1:]\n",
    "amount = amount[1:]\n",
    "plt.loglog(size, amount, '+')\n",
    "result = powerlaw.Fit(amount, discrete=True)\n",
    "print(result.alpha)\n",
    "R, p = result.distribution_compare('power_law', 'lognormal')\n",
    "print(R, p)\n",
    "print(result.xmin)\n"
   ]
  },
  {
   "cell_type": "code",
   "execution_count": 6,
   "metadata": {},
   "outputs": [
    {
     "name": "stderr",
     "output_type": "stream",
     "text": [
      "Values less than or equal to 0 in data. Throwing out 0 or negative values\n",
      "Calculating best minimal value for power law fit\n"
     ]
    },
    {
     "name": "stdout",
     "output_type": "stream",
     "text": [
      "1.180257759645622\n"
     ]
    },
    {
     "data": {
      "image/png": "[encoded data removed]",
      "text/plain": [
       "<Figure size 432x288 with 1 Axes>"
      ]
     },
     "metadata": {
      "needs_background": "light"
     },
     "output_type": "display_data"
    }
   ],
   "source": [
    "size, amount = np.loadtxt(\"3D_data_PA.txt\", skiprows=1, unpack=True)\n",
    "size = size[1:]\n",
    "amount = amount[1:]\n",
    "plt.loglog(size, amount, '+')\n",
    "result = powerlaw.Fit(amount, discrete=True)\n",
    "print(result.alpha)\n"
   ]
  },
  {
   "cell_type": "code",
   "execution_count": 30,
   "metadata": {},
   "outputs": [
    {
     "name": "stderr",
     "output_type": "stream",
     "text": [
      "Calculating best minimal value for power law fit\n",
      "/home/sennevw/anaconda3/lib/python3.9/site-packages/powerlaw.py:699: RuntimeWarning: divide by zero encountered in true_divide\n",
      "  (CDF_diff**2) /\n"
     ]
    },
    {
     "name": "stdout",
     "output_type": "stream",
     "text": [
      "False\n"
     ]
    },
    {
     "name": "stderr",
     "output_type": "stream",
     "text": [
      "Calculating best minimal value for power law fit\n",
      "/home/sennevw/anaconda3/lib/python3.9/site-packages/powerlaw.py:699: RuntimeWarning: invalid value encountered in true_divide\n",
      "  (CDF_diff**2) /\n"
     ]
    },
    {
     "name": "stdout",
     "output_type": "stream",
     "text": [
      "True\n"
     ]
    },
    {
     "name": "stderr",
     "output_type": "stream",
     "text": [
      "Calculating best minimal value for power law fit\n"
     ]
    },
    {
     "name": "stdout",
     "output_type": "stream",
     "text": [
      "True\n"
     ]
    },
    {
     "data": {
      "image/png": "[encoded data removed]",
      "text/plain": [
       "<Figure size 1080x360 with 4 Axes>"
      ]
     },
     "metadata": {
      "needs_background": "light"
     },
     "output_type": "display_data"
    }
   ],
   "source": [
    "r_list = [2, 3, 4]\n",
    "cutoff = [10, 50, 100]\n",
    "fig, ax = plt.subplots(1, 4, figsize=(15, 5))\n",
    "ax[2].set_xscale('log')\n",
    "ax[2].set_yscale('log')\n",
    "alpha_list = []\n",
    "p_list = []\n",
    "err = []\n",
    "cmap = plt.get_cmap(\"tab10\")\n",
    "for i, j in zip(r_list, cutoff):\n",
    "    size, amount = np.loadtxt(\"r{}.txt\".format(i), skiprows=1, unpack=True)\n",
    "    amount = amount[1:j]\n",
    "    result = powerlaw.Fit(amount, discrete=True)\n",
    "    result.plot_ccdf(color=cmap(i-1), label=i, ax=ax[0])\n",
    "    result.power_law.plot_ccdf(color=cmap(i-1), linestyle='--', ax=ax[0])\n",
    "    plot_loglog(ax[2], amount)\n",
    "    x = np.linspace(1, len(amount), (len(amount)))\n",
    "    ax[1].errorbar(i, result.alpha, yerr=result.sigma, fmt='o', color=cmap(i-1))\n",
    "    ax[2].plot(x, amount, color=cmap(i-1))\n",
    "    ax[2].plot(x, amount, '+', color=cmap(i-1))\n",
    "    ax[3].set_xscale('log')\n",
    "    ax[3].scatter(i, result.power_law.D, color=cmap(i-1))\n",
    "    ax[3].scatter(i, 1.22385/np.sqrt(result.n), color='black')\n",
    "    #ax[3].plot(result.xmins, result.alphas, label=i)\n",
    "    print(result.power_law.D < 1.22385/np.sqrt(result.n) )\n",
    "\n",
    "\n",
    "\n",
    "#ax[3].plot(r_list, p_list, 'o')\n"
   ]
  },
  {
   "cell_type": "markdown",
   "metadata": {},
   "source": [
    "Maak ook nog een dichtheidsafhankelijke plot nparticles/size**3"
   ]
  },
  {
   "cell_type": "code",
   "execution_count": 5,
   "metadata": {},
   "outputs": [
    {
     "data": {
      "text/plain": [
       "[<matplotlib.lines.Line2D at 0x7f26c791c8e0>]"
      ]
     },
     "execution_count": 5,
     "metadata": {},
     "output_type": "execute_result"
    },
    {
     "data": {
      "image/png": "[encoded data removed]",
      "text/plain": [
       "<Figure size 432x288 with 1 Axes>"
      ]
     },
     "metadata": {
      "needs_background": "light"
     },
     "output_type": "display_data"
    }
   ],
   "source": [
    "size, amount = np.loadtxt(\"PA_r4_false.txt\", skiprows=1, unpack=True)\n",
    "amount = amount[1:]\n",
    "size = size[1:]\n",
    "plt.loglog(size, amount)\n"
   ]
  },
  {
   "cell_type": "code",
   "execution_count": 6,
   "metadata": {},
   "outputs": [
    {
     "data": {
      "text/plain": [
       "[<matplotlib.lines.Line2D at 0x7f26c727a850>]"
      ]
     },
     "execution_count": 6,
     "metadata": {},
     "output_type": "execute_result"
    },
    {
     "data": {
      "image/png": "[encoded data removed]",
      "text/plain": [
       "<Figure size 432x288 with 1 Axes>"
      ]
     },
     "metadata": {
      "needs_background": "light"
     },
     "output_type": "display_data"
    }
   ],
   "source": [
    "size, amount = np.loadtxt(\"3D_data_PA.txt\", skiprows=1, unpack=True)\n",
    "amount = amount[1:]\n",
    "size = size[1:]\n",
    "plt.loglog(size, amount)"
   ]
  },
  {
   "cell_type": "code",
   "execution_count": null,
   "metadata": {},
   "outputs": [],
   "source": []
  }
 ],
 "metadata": {
  "kernelspec": {
   "display_name": "base",
   "language": "python",
   "name": "python3"
  },
  "language_info": {
   "codemirror_mode": {
    "name": "ipython",
    "version": 3
   },
   "file_extension": ".py",
   "mimetype": "text/x-python",
   "name": "python",
   "nbconvert_exporter": "python",
   "pygments_lexer": "ipython3",
   "version": "3.9.12"
  }
 },
 "nbformat": 4,
 "nbformat_minor": 2
}
