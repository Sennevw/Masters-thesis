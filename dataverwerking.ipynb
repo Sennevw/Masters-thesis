{
 "cells": [
  {
   "cell_type": "code",
   "execution_count": 2,
   "metadata": {},
   "outputs": [],
   "source": [
    "import numpy as np\n",
    "import matplotlib.pyplot as plt\n",
    "import powerlaw as pl"
   ]
  },
  {
   "cell_type": "markdown",
   "metadata": {},
   "source": [
    "g++-12 -std=c++17 -Wall -O3 -o help Newtonian.cpp\n"
   ]
  },
  {
   "cell_type": "code",
   "execution_count": null,
   "metadata": {},
   "outputs": [],
   "source": [
    "def plot_loglog(ax, tot_clust):\n",
    "    x = np.linspace(1, len(tot_clust), (len(tot_clust)))\n",
    "    ax.set_xscale('log')\n",
    "    ax.set_yscale('log')\n",
    "    ax.plot(x, tot_clust)\n",
    "    ax.plot(x, tot_clust, '+')\n",
    "\n",
    "def plot_samplex(ax, clusters):\n",
    "    list = np.zeros(len(clusters))\n",
    "    for i in range(len(clusters)):\n",
    "        list[i] = np.sum(clusters[i:])/np.sum(clusters)\n",
    "    ax.set_xscale('log')\n",
    "    ax.set_yscale('log')\n",
    "    x = np.linspace(1, len(list), len(list))\n",
    "    ax.plot(x, list)\n",
    "    return x, list\n",
    "\n",
    "def plot_ccdf1(ax, tot_clust):\n",
    "    N = len(tot_clust)\n",
    "    x = np.sort(tot_clust) \n",
    "    y = np.arange(N) / float(N)\n",
    "    ax.set_xscale('log')\n",
    "    ax.set_yscale('log')\n",
    "    ax.plot(x, 1-y)\n",
    "\n",
    "def plot_ccdf2(ax, tot_clust, dens=False):\n",
    "    count, bins_count = np.histogram(tot_clust, bins=np.logspace(0, np.log10(len(tot_clust)), 5000), density=dens)\n",
    "    pdf = count / sum(count) \n",
    "    cdf = np.cumsum(pdf)\n",
    "    ccdf = 1 - cdf\n",
    "    ax.set_xscale('log')\n",
    "    ax.set_yscale('log')\n",
    "    ax.plot(bins_count[1:], ccdf)\n",
    "    return bins_count[1:], ccdf\n",
    "\n",
    "def pl(x, a, b):\n",
    "    return a * np.power(x, -b)\n",
    "\n",
    "def fit_pl(x, y):\n",
    "    return scipy.optimize.curve_fit(power_law, x, y)"
   ]
  },
  {
   "cell_type": "code",
   "execution_count": 66,
   "metadata": {},
   "outputs": [
    {
     "data": {
      "text/plain": [
       "[<matplotlib.lines.Line2D at 0x7f15fe263d30>]"
      ]
     },
     "execution_count": 66,
     "metadata": {},
     "output_type": "execute_result"
    },
    {
     "data": {
      "image/png": "[encoded data removed]",
      "text/plain": [
       "<Figure size 432x288 with 1 Axes>"
      ]
     },
     "metadata": {
      "needs_background": "light"
     },
     "output_type": "display_data"
    }
   ],
   "source": [
    "size, amount = np.loadtxt(\"3D_data.txt\", skiprows=1, unpack=True)\n",
    "plt.loglog(size[1:], amount[1:])"
   ]
  },
  {
   "cell_type": "code",
   "execution_count": 104,
   "metadata": {},
   "outputs": [
    {
     "name": "stderr",
     "output_type": "stream",
     "text": [
      "Values less than or equal to 0 in data. Throwing out 0 or negative values\n",
      "Calculating best minimal value for power law fit\n",
      "/home/sennevw/anaconda3/lib/python3.9/site-packages/powerlaw.py:699: RuntimeWarning: invalid value encountered in true_divide\n",
      "  (CDF_diff**2) /\n",
      "/home/sennevw/anaconda3/lib/python3.9/site-packages/powerlaw.py:699: RuntimeWarning: divide by zero encountered in true_divide\n",
      "  (CDF_diff**2) /\n"
     ]
    },
    {
     "name": "stdout",
     "output_type": "stream",
     "text": [
      "1.2206050859519988\n",
      "182.19527993253513 1.012398624111004e-29\n"
     ]
    },
    {
     "data": {
      "image/png": "[encoded data removed]",
      "text/plain": [
       "<Figure size 432x288 with 1 Axes>"
      ]
     },
     "metadata": {
      "needs_background": "light"
     },
     "output_type": "display_data"
    }
   ],
   "source": [
    "size, amount = np.loadtxt(\"r4.txt\", skiprows=1, unpack=True)\n",
    "size = size[1:]\n",
    "amount = amount[1:]\n",
    "plt.loglog(size, amount, '.', )\n",
    "size1 = []\n",
    "size2 = []\n",
    "amount1 = []\n",
    "amount2 = []\n",
    "for i, j in enumerate(size):\n",
    "    if j < 130:\n",
    "        size1.append(j)\n",
    "        amount1.append(amount[i])\n",
    "    else:\n",
    "        size2.append(j)\n",
    "        amount2.append(amount[i])\n",
    "\n",
    "result1 = pl.Fit(amount2, discrete=True)\n",
    "R, p = result1.distribution_compare('lognormal', 'power_law')\n",
    "print(result1.alpha)\n",
    "print(R, p)\n",
    "\n",
    "\n"
   ]
  },
  {
   "cell_type": "code",
   "execution_count": null,
   "metadata": {},
   "outputs": [],
   "source": [
    "r=1 alpha 3.04 p=0.87\n",
    "r=2 geeft alpha=2.52 wat goed kan zijn maar de p-waarde van power law behaviour is 0.99, de p waarde van lognormal staart is 0.11\n",
    "r=3 alpha 2.33 p=0.805 staart p is 3.97*10^11\n",
    "r=4 alpha 2.29 p=0.905, staart p=1*10^29\n",
    "r=5 geeft alpha=2.29 p=0.63, de p waarde van lognormal staart is 0.004\n"
   ]
  }
 ],
 "metadata": {
  "kernelspec": {
   "display_name": "base",
   "language": "python",
   "name": "python3"
  },
  "language_info": {
   "codemirror_mode": {
    "name": "ipython",
    "version": 3
   },
   "file_extension": ".py",
   "mimetype": "text/x-python",
   "name": "python",
   "nbconvert_exporter": "python",
   "pygments_lexer": "ipython3",
   "version": "3.9.12"
  }
 },
 "nbformat": 4,
 "nbformat_minor": 2
}
